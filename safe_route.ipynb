{
  "nbformat": 4,
  "nbformat_minor": 0,
  "metadata": {
    "colab": {
      "name": "safe_route.ipynb",
      "provenance": [],
      "collapsed_sections": [],
      "include_colab_link": true
    },
    "kernelspec": {
      "name": "python3",
      "display_name": "Python 3"
    }
  },
  "cells": [
    {
      "cell_type": "markdown",
      "metadata": {
        "id": "view-in-github",
        "colab_type": "text"
      },
      "source": [
        "<a href=\"https://colab.research.google.com/github/Sai-Vamsi-Ogety/SafeApp/blob/master/safe_route.ipynb\" target=\"_parent\"><img src=\"https://colab.research.google.com/assets/colab-badge.svg\" alt=\"Open In Colab\"/></a>"
      ]
    },
    {
      "cell_type": "code",
      "metadata": {
        "id": "NtTMpYE2enh-",
        "colab_type": "code",
        "colab": {}
      },
      "source": [
        "import pandas as pd\n",
        "pd.set_option('display.max_columns', None)\n",
        "pd.set_option('display.max_rows', None)\n"
      ],
      "execution_count": 0,
      "outputs": []
    },
    {
      "cell_type": "code",
      "metadata": {
        "id": "MJa4y8e6fKqP",
        "colab_type": "code",
        "outputId": "3e5666a4-bccd-4b8e-a874-e87b7e33d2a8",
        "colab": {
          "base_uri": "https://localhost:8080/",
          "height": 71
        }
      },
      "source": [
        "crime_df = pd.read_csv(\"crime-data_crime-data_crimestat.csv\")"
      ],
      "execution_count": 0,
      "outputs": [
        {
          "output_type": "stream",
          "text": [
            "/usr/local/lib/python3.6/dist-packages/IPython/core/interactiveshell.py:2718: DtypeWarning: Columns (0) have mixed types. Specify dtype option on import or set low_memory=False.\n",
            "  interactivity=interactivity, compiler=compiler, result=result)\n"
          ],
          "name": "stderr"
        }
      ]
    },
    {
      "cell_type": "code",
      "metadata": {
        "id": "faYUEWHcfZP1",
        "colab_type": "code",
        "outputId": "e83c802a-9763-4d5e-cda4-82a3c9eeaa70",
        "colab": {
          "base_uri": "https://localhost:8080/",
          "height": 289
        }
      },
      "source": [
        "crime_df.head()"
      ],
      "execution_count": 0,
      "outputs": [
        {
          "output_type": "execute_result",
          "data": {
            "text/html": [
              "<div>\n",
              "<style scoped>\n",
              "    .dataframe tbody tr th:only-of-type {\n",
              "        vertical-align: middle;\n",
              "    }\n",
              "\n",
              "    .dataframe tbody tr th {\n",
              "        vertical-align: top;\n",
              "    }\n",
              "\n",
              "    .dataframe thead th {\n",
              "        text-align: right;\n",
              "    }\n",
              "</style>\n",
              "<table border=\"1\" class=\"dataframe\">\n",
              "  <thead>\n",
              "    <tr style=\"text-align: right;\">\n",
              "      <th></th>\n",
              "      <th>INC NUMBER</th>\n",
              "      <th>OCCURRED ON</th>\n",
              "      <th>OCCURRED TO</th>\n",
              "      <th>UCR CRIME CATEGORY</th>\n",
              "      <th>100 BLOCK ADDR</th>\n",
              "      <th>ZIP</th>\n",
              "      <th>PREMISE TYPE</th>\n",
              "    </tr>\n",
              "  </thead>\n",
              "  <tbody>\n",
              "    <tr>\n",
              "      <th>0</th>\n",
              "      <td>201500002101405</td>\n",
              "      <td>11/01/2015  00:00</td>\n",
              "      <td>11/01/2015  05:00</td>\n",
              "      <td>MOTOR VEHICLE THEFT</td>\n",
              "      <td>102XX W MEDLOCK AVE</td>\n",
              "      <td>85307.0</td>\n",
              "      <td>SINGLE FAMILY HOUSE</td>\n",
              "    </tr>\n",
              "    <tr>\n",
              "      <th>1</th>\n",
              "      <td>201500002102668</td>\n",
              "      <td>11/01/2015  00:00</td>\n",
              "      <td>11/01/2015  11:50</td>\n",
              "      <td>MOTOR VEHICLE THEFT</td>\n",
              "      <td>69XX W WOOD ST</td>\n",
              "      <td>85043.0</td>\n",
              "      <td>SINGLE FAMILY HOUSE</td>\n",
              "    </tr>\n",
              "    <tr>\n",
              "      <th>2</th>\n",
              "      <td>201600000052855</td>\n",
              "      <td>11/01/2015  00:00</td>\n",
              "      <td>01/09/2016  00:00</td>\n",
              "      <td>MOTOR VEHICLE THEFT</td>\n",
              "      <td>N 43RD AVE &amp; W CACTUS RD</td>\n",
              "      <td>85029.0</td>\n",
              "      <td>SINGLE FAMILY HOUSE</td>\n",
              "    </tr>\n",
              "    <tr>\n",
              "      <th>3</th>\n",
              "      <td>201500002168686</td>\n",
              "      <td>11/01/2015  00:00</td>\n",
              "      <td>11/11/2015  09:30</td>\n",
              "      <td>LARCENY-THEFT</td>\n",
              "      <td>14XX E HIGHLAND AVE</td>\n",
              "      <td>85014.0</td>\n",
              "      <td>PARKING LOT</td>\n",
              "    </tr>\n",
              "    <tr>\n",
              "      <th>4</th>\n",
              "      <td>201700001722914</td>\n",
              "      <td>11/01/2015  00:00</td>\n",
              "      <td>NaN</td>\n",
              "      <td>LARCENY-THEFT</td>\n",
              "      <td>279XX N 23RD LN</td>\n",
              "      <td>85085.0</td>\n",
              "      <td>SINGLE FAMILY HOUSE</td>\n",
              "    </tr>\n",
              "  </tbody>\n",
              "</table>\n",
              "</div>"
            ],
            "text/plain": [
              "        INC NUMBER        OCCURRED ON        OCCURRED TO   UCR CRIME CATEGORY  \\\n",
              "0  201500002101405  11/01/2015  00:00  11/01/2015  05:00  MOTOR VEHICLE THEFT   \n",
              "1  201500002102668  11/01/2015  00:00  11/01/2015  11:50  MOTOR VEHICLE THEFT   \n",
              "2  201600000052855  11/01/2015  00:00  01/09/2016  00:00  MOTOR VEHICLE THEFT   \n",
              "3  201500002168686  11/01/2015  00:00  11/11/2015  09:30        LARCENY-THEFT   \n",
              "4  201700001722914  11/01/2015  00:00                NaN        LARCENY-THEFT   \n",
              "\n",
              "             100 BLOCK ADDR      ZIP         PREMISE TYPE  \n",
              "0       102XX W MEDLOCK AVE  85307.0  SINGLE FAMILY HOUSE  \n",
              "1            69XX W WOOD ST  85043.0  SINGLE FAMILY HOUSE  \n",
              "2  N 43RD AVE & W CACTUS RD  85029.0  SINGLE FAMILY HOUSE  \n",
              "3       14XX E HIGHLAND AVE  85014.0          PARKING LOT  \n",
              "4           279XX N 23RD LN  85085.0  SINGLE FAMILY HOUSE  "
            ]
          },
          "metadata": {
            "tags": []
          },
          "execution_count": 10
        }
      ]
    },
    {
      "cell_type": "code",
      "metadata": {
        "id": "3LNPuLDyf6mV",
        "colab_type": "code",
        "outputId": "ad82b998-a311-4a20-c385-11e440aea0bd",
        "colab": {
          "base_uri": "https://localhost:8080/",
          "height": 34
        }
      },
      "source": [
        "col = crime_df.columns.tolist()\n",
        "for i in range(len(col)):\n",
        "  temp = col[i]\n",
        "  temp = temp.lower()\n",
        "  temp = temp.replace(\" \", \"_\")\n",
        "  col[i] = temp\n",
        "  \n",
        "print(col)"
      ],
      "execution_count": 0,
      "outputs": [
        {
          "output_type": "stream",
          "text": [
            "['inc_number', 'occurred_on', 'occurred_to', 'ucr_crime_category', '100_block_addr', 'zip', 'premise_type']\n"
          ],
          "name": "stdout"
        }
      ]
    },
    {
      "cell_type": "code",
      "metadata": {
        "id": "IDOn2_Uph1qc",
        "colab_type": "code",
        "colab": {}
      },
      "source": [
        "crime_df.columns = col"
      ],
      "execution_count": 0,
      "outputs": []
    },
    {
      "cell_type": "code",
      "metadata": {
        "id": "Rnjc2RtCiMK0",
        "colab_type": "code",
        "colab": {}
      },
      "source": [
        "crime_df['occurred_on'] = pd.to_datetime(crime_df['occurred_on'])\n",
        "crime_df['occurred_to'] = pd.to_datetime(crime_df['occurred_to'])"
      ],
      "execution_count": 0,
      "outputs": []
    },
    {
      "cell_type": "code",
      "metadata": {
        "id": "iPkF8Ubviqab",
        "colab_type": "code",
        "outputId": "b3260ab3-258d-4d91-b2d1-6c8218f62eff",
        "colab": {
          "base_uri": "https://localhost:8080/",
          "height": 289
        }
      },
      "source": [
        "crime_df.head()"
      ],
      "execution_count": 0,
      "outputs": [
        {
          "output_type": "execute_result",
          "data": {
            "text/html": [
              "<div>\n",
              "<style scoped>\n",
              "    .dataframe tbody tr th:only-of-type {\n",
              "        vertical-align: middle;\n",
              "    }\n",
              "\n",
              "    .dataframe tbody tr th {\n",
              "        vertical-align: top;\n",
              "    }\n",
              "\n",
              "    .dataframe thead th {\n",
              "        text-align: right;\n",
              "    }\n",
              "</style>\n",
              "<table border=\"1\" class=\"dataframe\">\n",
              "  <thead>\n",
              "    <tr style=\"text-align: right;\">\n",
              "      <th></th>\n",
              "      <th>inc_number</th>\n",
              "      <th>occurred_on</th>\n",
              "      <th>occurred_to</th>\n",
              "      <th>ucr_crime_category</th>\n",
              "      <th>100_block_addr</th>\n",
              "      <th>zip</th>\n",
              "      <th>premise_type</th>\n",
              "    </tr>\n",
              "  </thead>\n",
              "  <tbody>\n",
              "    <tr>\n",
              "      <th>0</th>\n",
              "      <td>201500002101405</td>\n",
              "      <td>2015-11-01</td>\n",
              "      <td>2015-11-01 05:00:00</td>\n",
              "      <td>MOTOR VEHICLE THEFT</td>\n",
              "      <td>102XX W MEDLOCK AVE</td>\n",
              "      <td>85307.0</td>\n",
              "      <td>SINGLE FAMILY HOUSE</td>\n",
              "    </tr>\n",
              "    <tr>\n",
              "      <th>1</th>\n",
              "      <td>201500002102668</td>\n",
              "      <td>2015-11-01</td>\n",
              "      <td>2015-11-01 11:50:00</td>\n",
              "      <td>MOTOR VEHICLE THEFT</td>\n",
              "      <td>69XX W WOOD ST</td>\n",
              "      <td>85043.0</td>\n",
              "      <td>SINGLE FAMILY HOUSE</td>\n",
              "    </tr>\n",
              "    <tr>\n",
              "      <th>2</th>\n",
              "      <td>201600000052855</td>\n",
              "      <td>2015-11-01</td>\n",
              "      <td>2016-01-09 00:00:00</td>\n",
              "      <td>MOTOR VEHICLE THEFT</td>\n",
              "      <td>N 43RD AVE &amp; W CACTUS RD</td>\n",
              "      <td>85029.0</td>\n",
              "      <td>SINGLE FAMILY HOUSE</td>\n",
              "    </tr>\n",
              "    <tr>\n",
              "      <th>3</th>\n",
              "      <td>201500002168686</td>\n",
              "      <td>2015-11-01</td>\n",
              "      <td>2015-11-11 09:30:00</td>\n",
              "      <td>LARCENY-THEFT</td>\n",
              "      <td>14XX E HIGHLAND AVE</td>\n",
              "      <td>85014.0</td>\n",
              "      <td>PARKING LOT</td>\n",
              "    </tr>\n",
              "    <tr>\n",
              "      <th>4</th>\n",
              "      <td>201700001722914</td>\n",
              "      <td>2015-11-01</td>\n",
              "      <td>NaT</td>\n",
              "      <td>LARCENY-THEFT</td>\n",
              "      <td>279XX N 23RD LN</td>\n",
              "      <td>85085.0</td>\n",
              "      <td>SINGLE FAMILY HOUSE</td>\n",
              "    </tr>\n",
              "  </tbody>\n",
              "</table>\n",
              "</div>"
            ],
            "text/plain": [
              "        inc_number occurred_on         occurred_to   ucr_crime_category  \\\n",
              "0  201500002101405  2015-11-01 2015-11-01 05:00:00  MOTOR VEHICLE THEFT   \n",
              "1  201500002102668  2015-11-01 2015-11-01 11:50:00  MOTOR VEHICLE THEFT   \n",
              "2  201600000052855  2015-11-01 2016-01-09 00:00:00  MOTOR VEHICLE THEFT   \n",
              "3  201500002168686  2015-11-01 2015-11-11 09:30:00        LARCENY-THEFT   \n",
              "4  201700001722914  2015-11-01                 NaT        LARCENY-THEFT   \n",
              "\n",
              "             100_block_addr      zip         premise_type  \n",
              "0       102XX W MEDLOCK AVE  85307.0  SINGLE FAMILY HOUSE  \n",
              "1            69XX W WOOD ST  85043.0  SINGLE FAMILY HOUSE  \n",
              "2  N 43RD AVE & W CACTUS RD  85029.0  SINGLE FAMILY HOUSE  \n",
              "3       14XX E HIGHLAND AVE  85014.0          PARKING LOT  \n",
              "4           279XX N 23RD LN  85085.0  SINGLE FAMILY HOUSE  "
            ]
          },
          "metadata": {
            "tags": []
          },
          "execution_count": 14
        }
      ]
    },
    {
      "cell_type": "code",
      "metadata": {
        "id": "YjrsRs51itfH",
        "colab_type": "code",
        "outputId": "b37841fa-23a4-46f1-b05f-f4284add1d9d",
        "colab": {
          "base_uri": "https://localhost:8080/",
          "height": 51
        }
      },
      "source": [
        "!pip install geopy\n",
        "from geopy.geocoders import Nominatim # convert an address into latitude and longitude values"
      ],
      "execution_count": 0,
      "outputs": [
        {
          "output_type": "stream",
          "text": [
            "Requirement already satisfied: geopy in /usr/local/lib/python3.6/dist-packages (1.17.0)\n",
            "Requirement already satisfied: geographiclib<2,>=1.49 in /usr/local/lib/python3.6/dist-packages (from geopy) (1.49)\n"
          ],
          "name": "stdout"
        }
      ]
    },
    {
      "cell_type": "code",
      "metadata": {
        "id": "UXOPv_y4i9uz",
        "colab_type": "code",
        "outputId": "e893b0a5-a258-4c60-f568-ffa7702bccf5",
        "colab": {
          "base_uri": "https://localhost:8080/",
          "height": 51
        }
      },
      "source": [
        "#address = crime_df.loc[3,'100_block_addr'] +\",\"+ crime_df.loc[3,'zip'].astype(int).astype(str) +\",\" + 'Pheonix' + \",\"+ \"Arizona\" +\",\"+ \"U.S\"\n",
        "address = '10200 W wood st,85043'\n",
        "geolocator = Nominatim(user_agent=\"explorer\")\n",
        "location = geolocator.geocode(address)\n",
        "print(location)\n",
        "latitude = location.latitude\n",
        "longitude = location.longitude\n",
        "print('The geograpical coordinate of 102XX W MEDLOCK AVE,85307.0 {}, {}.'.format(latitude, longitude))"
      ],
      "execution_count": 0,
      "outputs": [
        {
          "output_type": "stream",
          "text": [
            "West Wood Street, Santa Maria, Estrella, Phoenix, Maricopa County, Arizona, 85043, USA\n",
            "The geograpical coordinate of 102XX W MEDLOCK AVE,85307.0 33.4096802, -112.1896586.\n"
          ],
          "name": "stdout"
        }
      ]
    },
    {
      "cell_type": "code",
      "metadata": {
        "id": "AX45vdQ4nvvu",
        "colab_type": "code",
        "outputId": "152b7e10-4036-4bf2-acac-205c30cf20a6",
        "colab": {
          "base_uri": "https://localhost:8080/",
          "height": 51
        }
      },
      "source": [
        "address = 'W wood st,85043'\n",
        "geolocator = Nominatim(user_agent=\"explorer\")\n",
        "location = geolocator.geocode(address)\n",
        "print(location)\n",
        "latitude = location.latitude\n",
        "longitude = location.longitude\n",
        "print('The geograpical coordinate of 102XX W MEDLOCK AVE,85307.0 {}, {}.'.format(latitude, longitude))"
      ],
      "execution_count": 0,
      "outputs": [
        {
          "output_type": "stream",
          "text": [
            "West Wood Street, Sunset Farms, Phoenix, Maricopa County, Arizona, 85353, USA\n",
            "The geograpical coordinate of 102XX W MEDLOCK AVE,85307.0 33.4078724, -112.2748659.\n"
          ],
          "name": "stdout"
        }
      ]
    },
    {
      "cell_type": "markdown",
      "metadata": {
        "id": "tgZLn9U9ox-l",
        "colab_type": "text"
      },
      "source": [
        "We need to replace \"xx\" with some digits to get the accurate location."
      ]
    },
    {
      "cell_type": "code",
      "metadata": {
        "id": "vSMlm3QNo6P1",
        "colab_type": "code",
        "colab": {}
      },
      "source": [
        "def replaceXXwithOO(input, pattern = \"XX\", replaceWith = \"00\"): \n",
        "    return input.replace(pattern, replaceWith) \n",
        "  "
      ],
      "execution_count": 0,
      "outputs": []
    },
    {
      "cell_type": "code",
      "metadata": {
        "id": "k6dm4INxwhSN",
        "colab_type": "code",
        "colab": {}
      },
      "source": [
        "crime_df['100_block_addr'] = crime_df['100_block_addr'].apply(replaceXXwithOO)"
      ],
      "execution_count": 0,
      "outputs": []
    },
    {
      "cell_type": "code",
      "metadata": {
        "id": "-XXFeAQxxVFw",
        "colab_type": "code",
        "outputId": "5b8b7a48-9945-4624-e36b-e864eaf529ca",
        "colab": {
          "base_uri": "https://localhost:8080/",
          "height": 119
        }
      },
      "source": [
        "crime_df['100_block_addr'].head()"
      ],
      "execution_count": 0,
      "outputs": [
        {
          "output_type": "execute_result",
          "data": {
            "text/plain": [
              "0         10200 W MEDLOCK AVE\n",
              "1              6900 W WOOD ST\n",
              "2    N 43RD AVE & W CACTUS RD\n",
              "3         1400 E HIGHLAND AVE\n",
              "4             27900 N 23RD LN\n",
              "Name: 100_block_addr, dtype: object"
            ]
          },
          "metadata": {
            "tags": []
          },
          "execution_count": 20
        }
      ]
    },
    {
      "cell_type": "markdown",
      "metadata": {
        "id": "ucExp_j5xcxl",
        "colab_type": "text"
      },
      "source": [
        "yayy! replaced \"xx\" with \"00\". Now we extract Latitude and Longitudes of these addresses.\n",
        "\n",
        "---\n",
        "\n"
      ]
    },
    {
      "cell_type": "code",
      "metadata": {
        "id": "POqjSXiaCpkf",
        "colab_type": "code",
        "colab": {}
      },
      "source": [
        "crime_df[\"Year\"]= crime_df[\"occurred_on\"].dt.year"
      ],
      "execution_count": 0,
      "outputs": []
    },
    {
      "cell_type": "code",
      "metadata": {
        "id": "wrnC3fHSQT-c",
        "colab_type": "code",
        "outputId": "b352b55a-c3e1-44a6-a3c3-614892252f99",
        "colab": {
          "base_uri": "https://localhost:8080/",
          "height": 357
        }
      },
      "source": [
        "crime_df.head()"
      ],
      "execution_count": 0,
      "outputs": [
        {
          "output_type": "execute_result",
          "data": {
            "text/html": [
              "<div>\n",
              "<style scoped>\n",
              "    .dataframe tbody tr th:only-of-type {\n",
              "        vertical-align: middle;\n",
              "    }\n",
              "\n",
              "    .dataframe tbody tr th {\n",
              "        vertical-align: top;\n",
              "    }\n",
              "\n",
              "    .dataframe thead th {\n",
              "        text-align: right;\n",
              "    }\n",
              "</style>\n",
              "<table border=\"1\" class=\"dataframe\">\n",
              "  <thead>\n",
              "    <tr style=\"text-align: right;\">\n",
              "      <th></th>\n",
              "      <th>inc_number</th>\n",
              "      <th>occurred_on</th>\n",
              "      <th>occurred_to</th>\n",
              "      <th>ucr_crime_category</th>\n",
              "      <th>100_block_addr</th>\n",
              "      <th>zip</th>\n",
              "      <th>premise_type</th>\n",
              "      <th>Year</th>\n",
              "    </tr>\n",
              "  </thead>\n",
              "  <tbody>\n",
              "    <tr>\n",
              "      <th>0</th>\n",
              "      <td>201500002101405</td>\n",
              "      <td>2015-11-01</td>\n",
              "      <td>2015-11-01 05:00:00</td>\n",
              "      <td>MOTOR VEHICLE THEFT</td>\n",
              "      <td>10200 W MEDLOCK AVE</td>\n",
              "      <td>85307.0</td>\n",
              "      <td>SINGLE FAMILY HOUSE</td>\n",
              "      <td>2015.0</td>\n",
              "    </tr>\n",
              "    <tr>\n",
              "      <th>1</th>\n",
              "      <td>201500002102668</td>\n",
              "      <td>2015-11-01</td>\n",
              "      <td>2015-11-01 11:50:00</td>\n",
              "      <td>MOTOR VEHICLE THEFT</td>\n",
              "      <td>6900 W WOOD ST</td>\n",
              "      <td>85043.0</td>\n",
              "      <td>SINGLE FAMILY HOUSE</td>\n",
              "      <td>2015.0</td>\n",
              "    </tr>\n",
              "    <tr>\n",
              "      <th>2</th>\n",
              "      <td>201600000052855</td>\n",
              "      <td>2015-11-01</td>\n",
              "      <td>2016-01-09 00:00:00</td>\n",
              "      <td>MOTOR VEHICLE THEFT</td>\n",
              "      <td>N 43RD AVE &amp; W CACTUS RD</td>\n",
              "      <td>85029.0</td>\n",
              "      <td>SINGLE FAMILY HOUSE</td>\n",
              "      <td>2015.0</td>\n",
              "    </tr>\n",
              "    <tr>\n",
              "      <th>3</th>\n",
              "      <td>201500002168686</td>\n",
              "      <td>2015-11-01</td>\n",
              "      <td>2015-11-11 09:30:00</td>\n",
              "      <td>LARCENY-THEFT</td>\n",
              "      <td>1400 E HIGHLAND AVE</td>\n",
              "      <td>85014.0</td>\n",
              "      <td>PARKING LOT</td>\n",
              "      <td>2015.0</td>\n",
              "    </tr>\n",
              "    <tr>\n",
              "      <th>4</th>\n",
              "      <td>201700001722914</td>\n",
              "      <td>2015-11-01</td>\n",
              "      <td>NaT</td>\n",
              "      <td>LARCENY-THEFT</td>\n",
              "      <td>27900 N 23RD LN</td>\n",
              "      <td>85085.0</td>\n",
              "      <td>SINGLE FAMILY HOUSE</td>\n",
              "      <td>2015.0</td>\n",
              "    </tr>\n",
              "  </tbody>\n",
              "</table>\n",
              "</div>"
            ],
            "text/plain": [
              "        inc_number occurred_on         occurred_to   ucr_crime_category  \\\n",
              "0  201500002101405  2015-11-01 2015-11-01 05:00:00  MOTOR VEHICLE THEFT   \n",
              "1  201500002102668  2015-11-01 2015-11-01 11:50:00  MOTOR VEHICLE THEFT   \n",
              "2  201600000052855  2015-11-01 2016-01-09 00:00:00  MOTOR VEHICLE THEFT   \n",
              "3  201500002168686  2015-11-01 2015-11-11 09:30:00        LARCENY-THEFT   \n",
              "4  201700001722914  2015-11-01                 NaT        LARCENY-THEFT   \n",
              "\n",
              "             100_block_addr      zip         premise_type    Year  \n",
              "0       10200 W MEDLOCK AVE  85307.0  SINGLE FAMILY HOUSE  2015.0  \n",
              "1            6900 W WOOD ST  85043.0  SINGLE FAMILY HOUSE  2015.0  \n",
              "2  N 43RD AVE & W CACTUS RD  85029.0  SINGLE FAMILY HOUSE  2015.0  \n",
              "3       1400 E HIGHLAND AVE  85014.0          PARKING LOT  2015.0  \n",
              "4           27900 N 23RD LN  85085.0  SINGLE FAMILY HOUSE  2015.0  "
            ]
          },
          "metadata": {
            "tags": []
          },
          "execution_count": 23
        }
      ]
    },
    {
      "cell_type": "code",
      "metadata": {
        "id": "9hFZjKNpQIrP",
        "colab_type": "code",
        "colab": {}
      },
      "source": [
        "crime_df[\"Month\"] = crime_df[\"occurred_on\"].dt.month"
      ],
      "execution_count": 0,
      "outputs": []
    },
    {
      "cell_type": "code",
      "metadata": {
        "id": "2zBvvgUVM9CH",
        "colab_type": "code",
        "outputId": "7aecb4ef-72dc-4794-ac12-58bb809b982d",
        "colab": {
          "base_uri": "https://localhost:8080/",
          "height": 119
        }
      },
      "source": [
        "crime_df[\"Month\"].head()"
      ],
      "execution_count": 0,
      "outputs": [
        {
          "output_type": "execute_result",
          "data": {
            "text/plain": [
              "0    11.0\n",
              "1    11.0\n",
              "2    11.0\n",
              "3    11.0\n",
              "4    11.0\n",
              "Name: Month, dtype: float64"
            ]
          },
          "metadata": {
            "tags": []
          },
          "execution_count": 25
        }
      ]
    },
    {
      "cell_type": "code",
      "metadata": {
        "id": "iuO5OcWRMnlK",
        "colab_type": "code",
        "colab": {}
      },
      "source": [
        "year = [\"2019\"]\n",
        "crime2019 = crime_df[crime_df.Year.isin(year)]"
      ],
      "execution_count": 0,
      "outputs": []
    },
    {
      "cell_type": "code",
      "metadata": {
        "id": "esR4n9mqQBl5",
        "colab_type": "code",
        "outputId": "bb0597c3-3b26-4130-c778-b9cbc21bd56e",
        "colab": {
          "base_uri": "https://localhost:8080/",
          "height": 343
        }
      },
      "source": [
        "crime2019.head()"
      ],
      "execution_count": 0,
      "outputs": [
        {
          "output_type": "execute_result",
          "data": {
            "text/html": [
              "<div>\n",
              "<style scoped>\n",
              "    .dataframe tbody tr th:only-of-type {\n",
              "        vertical-align: middle;\n",
              "    }\n",
              "\n",
              "    .dataframe tbody tr th {\n",
              "        vertical-align: top;\n",
              "    }\n",
              "\n",
              "    .dataframe thead th {\n",
              "        text-align: right;\n",
              "    }\n",
              "</style>\n",
              "<table border=\"1\" class=\"dataframe\">\n",
              "  <thead>\n",
              "    <tr style=\"text-align: right;\">\n",
              "      <th></th>\n",
              "      <th>inc_number</th>\n",
              "      <th>occurred_on</th>\n",
              "      <th>occurred_to</th>\n",
              "      <th>ucr_crime_category</th>\n",
              "      <th>100_block_addr</th>\n",
              "      <th>zip</th>\n",
              "      <th>premise_type</th>\n",
              "      <th>Year</th>\n",
              "      <th>Month</th>\n",
              "    </tr>\n",
              "  </thead>\n",
              "  <tbody>\n",
              "    <tr>\n",
              "      <th>204486</th>\n",
              "      <td>201900000855221</td>\n",
              "      <td>2019-01-01</td>\n",
              "      <td>NaT</td>\n",
              "      <td>LARCENY-THEFT</td>\n",
              "      <td>18800 N 34TH LN</td>\n",
              "      <td>85027.0</td>\n",
              "      <td>UNKNOWN</td>\n",
              "      <td>2019.0</td>\n",
              "      <td>1.0</td>\n",
              "    </tr>\n",
              "    <tr>\n",
              "      <th>204487</th>\n",
              "      <td>201900000024064</td>\n",
              "      <td>2019-01-01</td>\n",
              "      <td>2019-01-05 08:45:00</td>\n",
              "      <td>BURGLARY</td>\n",
              "      <td>9400 N 38TH AVE</td>\n",
              "      <td>85051.0</td>\n",
              "      <td>SINGLE FAMILY HOUSE</td>\n",
              "      <td>2019.0</td>\n",
              "      <td>1.0</td>\n",
              "    </tr>\n",
              "    <tr>\n",
              "      <th>204488</th>\n",
              "      <td>201900000928388</td>\n",
              "      <td>2019-01-01</td>\n",
              "      <td>NaT</td>\n",
              "      <td>RAPE</td>\n",
              "      <td>6800 W DEVONSHIRE AVE</td>\n",
              "      <td>85033.0</td>\n",
              "      <td>SINGLE FAMILY HOUSE</td>\n",
              "      <td>2019.0</td>\n",
              "      <td>1.0</td>\n",
              "    </tr>\n",
              "    <tr>\n",
              "      <th>204489</th>\n",
              "      <td>201900000748401</td>\n",
              "      <td>2019-01-01</td>\n",
              "      <td>2019-04-29 10:00:00</td>\n",
              "      <td>RAPE</td>\n",
              "      <td>1500 W COLTER ST</td>\n",
              "      <td>85015.0</td>\n",
              "      <td>GROUP HOME</td>\n",
              "      <td>2019.0</td>\n",
              "      <td>1.0</td>\n",
              "    </tr>\n",
              "    <tr>\n",
              "      <th>204490</th>\n",
              "      <td>201900000824801</td>\n",
              "      <td>2019-01-01</td>\n",
              "      <td>2019-03-06 00:00:00</td>\n",
              "      <td>RAPE</td>\n",
              "      <td>1800 E VAN BUREN ST</td>\n",
              "      <td>85006.0</td>\n",
              "      <td>HOSPITAL</td>\n",
              "      <td>2019.0</td>\n",
              "      <td>1.0</td>\n",
              "    </tr>\n",
              "  </tbody>\n",
              "</table>\n",
              "</div>"
            ],
            "text/plain": [
              "             inc_number occurred_on         occurred_to ucr_crime_category  \\\n",
              "204486  201900000855221  2019-01-01                 NaT      LARCENY-THEFT   \n",
              "204487  201900000024064  2019-01-01 2019-01-05 08:45:00           BURGLARY   \n",
              "204488  201900000928388  2019-01-01                 NaT               RAPE   \n",
              "204489  201900000748401  2019-01-01 2019-04-29 10:00:00               RAPE   \n",
              "204490  201900000824801  2019-01-01 2019-03-06 00:00:00               RAPE   \n",
              "\n",
              "               100_block_addr      zip         premise_type    Year  Month  \n",
              "204486        18800 N 34TH LN  85027.0              UNKNOWN  2019.0    1.0  \n",
              "204487        9400 N 38TH AVE  85051.0  SINGLE FAMILY HOUSE  2019.0    1.0  \n",
              "204488  6800 W DEVONSHIRE AVE  85033.0  SINGLE FAMILY HOUSE  2019.0    1.0  \n",
              "204489       1500 W COLTER ST  85015.0           GROUP HOME  2019.0    1.0  \n",
              "204490    1800 E VAN BUREN ST  85006.0             HOSPITAL  2019.0    1.0  "
            ]
          },
          "metadata": {
            "tags": []
          },
          "execution_count": 31
        }
      ]
    },
    {
      "cell_type": "code",
      "metadata": {
        "id": "kalvOY1RNshD",
        "colab_type": "code",
        "outputId": "7d8c98be-8232-4dbf-c768-3099a99cf47b",
        "colab": {
          "base_uri": "https://localhost:8080/",
          "height": 34
        }
      },
      "source": [
        "crime2019.shape[0]"
      ],
      "execution_count": 0,
      "outputs": [
        {
          "output_type": "execute_result",
          "data": {
            "text/plain": [
              "47327"
            ]
          },
          "metadata": {
            "tags": []
          },
          "execution_count": 32
        }
      ]
    },
    {
      "cell_type": "code",
      "metadata": {
        "id": "oD3_WA91Xo3n",
        "colab_type": "code",
        "outputId": "81ace8a7-83f1-42f5-93e6-41874719386c",
        "colab": {
          "base_uri": "https://localhost:8080/",
          "height": 343
        }
      },
      "source": [
        "crime2019.zip = crime2019.zip.astype(str)\n",
        "crime2019[\"Address\"] = crime2019[\"100_block_addr\"] +\",\"+crime2019[\"zip\"].str[:-2]\n",
        "crime2019[\"Address\"].head()"
      ],
      "execution_count": 0,
      "outputs": [
        {
          "output_type": "stream",
          "text": [
            "/usr/local/lib/python3.6/dist-packages/pandas/core/generic.py:5096: SettingWithCopyWarning: \n",
            "A value is trying to be set on a copy of a slice from a DataFrame.\n",
            "Try using .loc[row_indexer,col_indexer] = value instead\n",
            "\n",
            "See the caveats in the documentation: http://pandas.pydata.org/pandas-docs/stable/indexing.html#indexing-view-versus-copy\n",
            "  self[name] = value\n",
            "/usr/local/lib/python3.6/dist-packages/ipykernel_launcher.py:2: SettingWithCopyWarning: \n",
            "A value is trying to be set on a copy of a slice from a DataFrame.\n",
            "Try using .loc[row_indexer,col_indexer] = value instead\n",
            "\n",
            "See the caveats in the documentation: http://pandas.pydata.org/pandas-docs/stable/indexing.html#indexing-view-versus-copy\n",
            "  \n"
          ],
          "name": "stderr"
        },
        {
          "output_type": "execute_result",
          "data": {
            "text/plain": [
              "204486          18800 N 34TH LN,85027\n",
              "204487          9400 N 38TH AVE,85051\n",
              "204488    6800 W DEVONSHIRE AVE,85033\n",
              "204489         1500 W COLTER ST,85015\n",
              "204490      1800 E VAN BUREN ST,85006\n",
              "Name: Address, dtype: object"
            ]
          },
          "metadata": {
            "tags": []
          },
          "execution_count": 39
        }
      ]
    },
    {
      "cell_type": "code",
      "metadata": {
        "id": "kgEEqgwqpzu9",
        "colab_type": "code",
        "colab": {}
      },
      "source": [
        "crime2019_fivek = crime2019.head(5000)"
      ],
      "execution_count": 0,
      "outputs": []
    },
    {
      "cell_type": "code",
      "metadata": {
        "id": "T1Epl34ZqK1D",
        "colab_type": "code",
        "outputId": "ab89deb4-c775-46aa-8cd2-92793591b58a",
        "colab": {
          "base_uri": "https://localhost:8080/",
          "height": 377
        }
      },
      "source": [
        "crime2019_fivek.head()"
      ],
      "execution_count": 0,
      "outputs": [
        {
          "output_type": "execute_result",
          "data": {
            "text/html": [
              "<div>\n",
              "<style scoped>\n",
              "    .dataframe tbody tr th:only-of-type {\n",
              "        vertical-align: middle;\n",
              "    }\n",
              "\n",
              "    .dataframe tbody tr th {\n",
              "        vertical-align: top;\n",
              "    }\n",
              "\n",
              "    .dataframe thead th {\n",
              "        text-align: right;\n",
              "    }\n",
              "</style>\n",
              "<table border=\"1\" class=\"dataframe\">\n",
              "  <thead>\n",
              "    <tr style=\"text-align: right;\">\n",
              "      <th></th>\n",
              "      <th>inc_number</th>\n",
              "      <th>occurred_on</th>\n",
              "      <th>occurred_to</th>\n",
              "      <th>ucr_crime_category</th>\n",
              "      <th>100_block_addr</th>\n",
              "      <th>zip</th>\n",
              "      <th>premise_type</th>\n",
              "      <th>Year</th>\n",
              "      <th>Month</th>\n",
              "      <th>Address</th>\n",
              "    </tr>\n",
              "  </thead>\n",
              "  <tbody>\n",
              "    <tr>\n",
              "      <th>204486</th>\n",
              "      <td>201900000855221</td>\n",
              "      <td>2019-01-01</td>\n",
              "      <td>NaT</td>\n",
              "      <td>LARCENY-THEFT</td>\n",
              "      <td>18800 N 34TH LN</td>\n",
              "      <td>85027.0</td>\n",
              "      <td>UNKNOWN</td>\n",
              "      <td>2019.0</td>\n",
              "      <td>1.0</td>\n",
              "      <td>18800 N 34TH LN,85027</td>\n",
              "    </tr>\n",
              "    <tr>\n",
              "      <th>204487</th>\n",
              "      <td>201900000024064</td>\n",
              "      <td>2019-01-01</td>\n",
              "      <td>2019-01-05 08:45:00</td>\n",
              "      <td>BURGLARY</td>\n",
              "      <td>9400 N 38TH AVE</td>\n",
              "      <td>85051.0</td>\n",
              "      <td>SINGLE FAMILY HOUSE</td>\n",
              "      <td>2019.0</td>\n",
              "      <td>1.0</td>\n",
              "      <td>9400 N 38TH AVE,85051</td>\n",
              "    </tr>\n",
              "    <tr>\n",
              "      <th>204488</th>\n",
              "      <td>201900000928388</td>\n",
              "      <td>2019-01-01</td>\n",
              "      <td>NaT</td>\n",
              "      <td>RAPE</td>\n",
              "      <td>6800 W DEVONSHIRE AVE</td>\n",
              "      <td>85033.0</td>\n",
              "      <td>SINGLE FAMILY HOUSE</td>\n",
              "      <td>2019.0</td>\n",
              "      <td>1.0</td>\n",
              "      <td>6800 W DEVONSHIRE AVE,85033</td>\n",
              "    </tr>\n",
              "    <tr>\n",
              "      <th>204489</th>\n",
              "      <td>201900000748401</td>\n",
              "      <td>2019-01-01</td>\n",
              "      <td>2019-04-29 10:00:00</td>\n",
              "      <td>RAPE</td>\n",
              "      <td>1500 W COLTER ST</td>\n",
              "      <td>85015.0</td>\n",
              "      <td>GROUP HOME</td>\n",
              "      <td>2019.0</td>\n",
              "      <td>1.0</td>\n",
              "      <td>1500 W COLTER ST,85015</td>\n",
              "    </tr>\n",
              "    <tr>\n",
              "      <th>204490</th>\n",
              "      <td>201900000824801</td>\n",
              "      <td>2019-01-01</td>\n",
              "      <td>2019-03-06 00:00:00</td>\n",
              "      <td>RAPE</td>\n",
              "      <td>1800 E VAN BUREN ST</td>\n",
              "      <td>85006.0</td>\n",
              "      <td>HOSPITAL</td>\n",
              "      <td>2019.0</td>\n",
              "      <td>1.0</td>\n",
              "      <td>1800 E VAN BUREN ST,85006</td>\n",
              "    </tr>\n",
              "  </tbody>\n",
              "</table>\n",
              "</div>"
            ],
            "text/plain": [
              "             inc_number occurred_on         occurred_to ucr_crime_category  \\\n",
              "204486  201900000855221  2019-01-01                 NaT      LARCENY-THEFT   \n",
              "204487  201900000024064  2019-01-01 2019-01-05 08:45:00           BURGLARY   \n",
              "204488  201900000928388  2019-01-01                 NaT               RAPE   \n",
              "204489  201900000748401  2019-01-01 2019-04-29 10:00:00               RAPE   \n",
              "204490  201900000824801  2019-01-01 2019-03-06 00:00:00               RAPE   \n",
              "\n",
              "               100_block_addr      zip         premise_type    Year  Month  \\\n",
              "204486        18800 N 34TH LN  85027.0              UNKNOWN  2019.0    1.0   \n",
              "204487        9400 N 38TH AVE  85051.0  SINGLE FAMILY HOUSE  2019.0    1.0   \n",
              "204488  6800 W DEVONSHIRE AVE  85033.0  SINGLE FAMILY HOUSE  2019.0    1.0   \n",
              "204489       1500 W COLTER ST  85015.0           GROUP HOME  2019.0    1.0   \n",
              "204490    1800 E VAN BUREN ST  85006.0             HOSPITAL  2019.0    1.0   \n",
              "\n",
              "                            Address  \n",
              "204486        18800 N 34TH LN,85027  \n",
              "204487        9400 N 38TH AVE,85051  \n",
              "204488  6800 W DEVONSHIRE AVE,85033  \n",
              "204489       1500 W COLTER ST,85015  \n",
              "204490    1800 E VAN BUREN ST,85006  "
            ]
          },
          "metadata": {
            "tags": []
          },
          "execution_count": 45
        }
      ]
    },
    {
      "cell_type": "code",
      "metadata": {
        "id": "korE6ozRq1_5",
        "colab_type": "code",
        "colab": {}
      },
      "source": [
        "crime2019_fivek.to_csv(\"crime2019_fivek.csv\")"
      ],
      "execution_count": 0,
      "outputs": []
    },
    {
      "cell_type": "code",
      "metadata": {
        "id": "qcEqAGu3Nuwq",
        "colab_type": "code",
        "outputId": "d7192209-10eb-4bce-ddf4-d8e32efee38f",
        "colab": {
          "base_uri": "https://localhost:8080/",
          "height": 564
        }
      },
      "source": [
        "geolocator = Nominatim(user_agent = \"explorer\")\n",
        "  \n",
        "from geopy.exc import GeocoderTimedOut\n",
        "\n",
        "def do_geocode(addr):\n",
        "    try:\n",
        "      \n",
        "      location = geolocator.geocode(addr)\n",
        "        \n",
        "    except GeocoderTimedOut:\n",
        "      \n",
        "      return do_geocode(addr)\n",
        "    finally:\n",
        "      if location:\n",
        "        Lat = location.latitude\n",
        "        Long = location.longitude\n",
        "        return Lat,Long\n",
        "      else:\n",
        "        return \"None\",\"None\"\n",
        "      \n",
        "crime2019_fivek[\"Lat_Long\"] = crime2019_fivek[\"Address\"].apply(do_geocode)"
      ],
      "execution_count": 0,
      "outputs": [
        {
          "output_type": "error",
          "ename": "UnboundLocalError",
          "evalue": "ignored",
          "traceback": [
            "\u001b[0;31m---------------------------------------------------------------------------\u001b[0m",
            "\u001b[0;31mHTTPError\u001b[0m                                 Traceback (most recent call last)",
            "\u001b[0;32m/usr/local/lib/python3.6/dist-packages/geopy/geocoders/base.py\u001b[0m in \u001b[0;36m_call_geocoder\u001b[0;34m(self, url, timeout, raw, requester, deserializer, **kwargs)\u001b[0m\n\u001b[1;32m    343\u001b[0m         \u001b[0;32mtry\u001b[0m\u001b[0;34m:\u001b[0m\u001b[0;34m\u001b[0m\u001b[0;34m\u001b[0m\u001b[0m\n\u001b[0;32m--> 344\u001b[0;31m             \u001b[0mpage\u001b[0m \u001b[0;34m=\u001b[0m \u001b[0mrequester\u001b[0m\u001b[0;34m(\u001b[0m\u001b[0mreq\u001b[0m\u001b[0;34m,\u001b[0m \u001b[0mtimeout\u001b[0m\u001b[0;34m=\u001b[0m\u001b[0mtimeout\u001b[0m\u001b[0;34m,\u001b[0m \u001b[0;34m**\u001b[0m\u001b[0mkwargs\u001b[0m\u001b[0;34m)\u001b[0m\u001b[0;34m\u001b[0m\u001b[0;34m\u001b[0m\u001b[0m\n\u001b[0m\u001b[1;32m    345\u001b[0m         \u001b[0;32mexcept\u001b[0m \u001b[0mException\u001b[0m \u001b[0;32mas\u001b[0m \u001b[0merror\u001b[0m\u001b[0;34m:\u001b[0m\u001b[0;34m\u001b[0m\u001b[0;34m\u001b[0m\u001b[0m\n",
            "\u001b[0;32m/usr/lib/python3.6/urllib/request.py\u001b[0m in \u001b[0;36mopen\u001b[0;34m(self, fullurl, data, timeout)\u001b[0m\n\u001b[1;32m    531\u001b[0m             \u001b[0mmeth\u001b[0m \u001b[0;34m=\u001b[0m \u001b[0mgetattr\u001b[0m\u001b[0;34m(\u001b[0m\u001b[0mprocessor\u001b[0m\u001b[0;34m,\u001b[0m \u001b[0mmeth_name\u001b[0m\u001b[0;34m)\u001b[0m\u001b[0;34m\u001b[0m\u001b[0;34m\u001b[0m\u001b[0m\n\u001b[0;32m--> 532\u001b[0;31m             \u001b[0mresponse\u001b[0m \u001b[0;34m=\u001b[0m \u001b[0mmeth\u001b[0m\u001b[0;34m(\u001b[0m\u001b[0mreq\u001b[0m\u001b[0;34m,\u001b[0m \u001b[0mresponse\u001b[0m\u001b[0;34m)\u001b[0m\u001b[0;34m\u001b[0m\u001b[0;34m\u001b[0m\u001b[0m\n\u001b[0m\u001b[1;32m    533\u001b[0m \u001b[0;34m\u001b[0m\u001b[0m\n",
            "\u001b[0;32m/usr/lib/python3.6/urllib/request.py\u001b[0m in \u001b[0;36mhttp_response\u001b[0;34m(self, request, response)\u001b[0m\n\u001b[1;32m    641\u001b[0m             response = self.parent.error(\n\u001b[0;32m--> 642\u001b[0;31m                 'http', request, response, code, msg, hdrs)\n\u001b[0m\u001b[1;32m    643\u001b[0m \u001b[0;34m\u001b[0m\u001b[0m\n",
            "\u001b[0;32m/usr/lib/python3.6/urllib/request.py\u001b[0m in \u001b[0;36merror\u001b[0;34m(self, proto, *args)\u001b[0m\n\u001b[1;32m    569\u001b[0m             \u001b[0margs\u001b[0m \u001b[0;34m=\u001b[0m \u001b[0;34m(\u001b[0m\u001b[0mdict\u001b[0m\u001b[0;34m,\u001b[0m \u001b[0;34m'default'\u001b[0m\u001b[0;34m,\u001b[0m \u001b[0;34m'http_error_default'\u001b[0m\u001b[0;34m)\u001b[0m \u001b[0;34m+\u001b[0m \u001b[0morig_args\u001b[0m\u001b[0;34m\u001b[0m\u001b[0;34m\u001b[0m\u001b[0m\n\u001b[0;32m--> 570\u001b[0;31m             \u001b[0;32mreturn\u001b[0m \u001b[0mself\u001b[0m\u001b[0;34m.\u001b[0m\u001b[0m_call_chain\u001b[0m\u001b[0;34m(\u001b[0m\u001b[0;34m*\u001b[0m\u001b[0margs\u001b[0m\u001b[0;34m)\u001b[0m\u001b[0;34m\u001b[0m\u001b[0;34m\u001b[0m\u001b[0m\n\u001b[0m\u001b[1;32m    571\u001b[0m \u001b[0;34m\u001b[0m\u001b[0m\n",
            "\u001b[0;32m/usr/lib/python3.6/urllib/request.py\u001b[0m in \u001b[0;36m_call_chain\u001b[0;34m(self, chain, kind, meth_name, *args)\u001b[0m\n\u001b[1;32m    503\u001b[0m             \u001b[0mfunc\u001b[0m \u001b[0;34m=\u001b[0m \u001b[0mgetattr\u001b[0m\u001b[0;34m(\u001b[0m\u001b[0mhandler\u001b[0m\u001b[0;34m,\u001b[0m \u001b[0mmeth_name\u001b[0m\u001b[0;34m)\u001b[0m\u001b[0;34m\u001b[0m\u001b[0;34m\u001b[0m\u001b[0m\n\u001b[0;32m--> 504\u001b[0;31m             \u001b[0mresult\u001b[0m \u001b[0;34m=\u001b[0m \u001b[0mfunc\u001b[0m\u001b[0;34m(\u001b[0m\u001b[0;34m*\u001b[0m\u001b[0margs\u001b[0m\u001b[0;34m)\u001b[0m\u001b[0;34m\u001b[0m\u001b[0;34m\u001b[0m\u001b[0m\n\u001b[0m\u001b[1;32m    505\u001b[0m             \u001b[0;32mif\u001b[0m \u001b[0mresult\u001b[0m \u001b[0;32mis\u001b[0m \u001b[0;32mnot\u001b[0m \u001b[0;32mNone\u001b[0m\u001b[0;34m:\u001b[0m\u001b[0;34m\u001b[0m\u001b[0;34m\u001b[0m\u001b[0m\n",
            "\u001b[0;32m/usr/lib/python3.6/urllib/request.py\u001b[0m in \u001b[0;36mhttp_error_default\u001b[0;34m(self, req, fp, code, msg, hdrs)\u001b[0m\n\u001b[1;32m    649\u001b[0m     \u001b[0;32mdef\u001b[0m \u001b[0mhttp_error_default\u001b[0m\u001b[0;34m(\u001b[0m\u001b[0mself\u001b[0m\u001b[0;34m,\u001b[0m \u001b[0mreq\u001b[0m\u001b[0;34m,\u001b[0m \u001b[0mfp\u001b[0m\u001b[0;34m,\u001b[0m \u001b[0mcode\u001b[0m\u001b[0;34m,\u001b[0m \u001b[0mmsg\u001b[0m\u001b[0;34m,\u001b[0m \u001b[0mhdrs\u001b[0m\u001b[0;34m)\u001b[0m\u001b[0;34m:\u001b[0m\u001b[0;34m\u001b[0m\u001b[0;34m\u001b[0m\u001b[0m\n\u001b[0;32m--> 650\u001b[0;31m         \u001b[0;32mraise\u001b[0m \u001b[0mHTTPError\u001b[0m\u001b[0;34m(\u001b[0m\u001b[0mreq\u001b[0m\u001b[0;34m.\u001b[0m\u001b[0mfull_url\u001b[0m\u001b[0;34m,\u001b[0m \u001b[0mcode\u001b[0m\u001b[0;34m,\u001b[0m \u001b[0mmsg\u001b[0m\u001b[0;34m,\u001b[0m \u001b[0mhdrs\u001b[0m\u001b[0;34m,\u001b[0m \u001b[0mfp\u001b[0m\u001b[0;34m)\u001b[0m\u001b[0;34m\u001b[0m\u001b[0;34m\u001b[0m\u001b[0m\n\u001b[0m\u001b[1;32m    651\u001b[0m \u001b[0;34m\u001b[0m\u001b[0m\n",
            "\u001b[0;31mHTTPError\u001b[0m: HTTP Error 429: Too Many Requests",
            "\nDuring handling of the above exception, another exception occurred:\n",
            "\u001b[0;31mGeocoderQuotaExceeded\u001b[0m                     Traceback (most recent call last)",
            "\u001b[0;32m<ipython-input-47-9704a97dc62c>\u001b[0m in \u001b[0;36mdo_geocode\u001b[0;34m(addr)\u001b[0m\n\u001b[1;32m      7\u001b[0m \u001b[0;34m\u001b[0m\u001b[0m\n\u001b[0;32m----> 8\u001b[0;31m       \u001b[0mlocation\u001b[0m \u001b[0;34m=\u001b[0m \u001b[0mgeolocator\u001b[0m\u001b[0;34m.\u001b[0m\u001b[0mgeocode\u001b[0m\u001b[0;34m(\u001b[0m\u001b[0maddr\u001b[0m\u001b[0;34m)\u001b[0m\u001b[0;34m\u001b[0m\u001b[0;34m\u001b[0m\u001b[0m\n\u001b[0m\u001b[1;32m      9\u001b[0m \u001b[0;34m\u001b[0m\u001b[0m\n",
            "\u001b[0;32m/usr/local/lib/python3.6/dist-packages/geopy/geocoders/osm.py\u001b[0m in \u001b[0;36mgeocode\u001b[0;34m(self, query, exactly_one, timeout, limit, addressdetails, language, geometry, extratags)\u001b[0m\n\u001b[1;32m    306\u001b[0m         return self._parse_json(\n\u001b[0;32m--> 307\u001b[0;31m             \u001b[0mself\u001b[0m\u001b[0;34m.\u001b[0m\u001b[0m_call_geocoder\u001b[0m\u001b[0;34m(\u001b[0m\u001b[0murl\u001b[0m\u001b[0;34m,\u001b[0m \u001b[0mtimeout\u001b[0m\u001b[0;34m=\u001b[0m\u001b[0mtimeout\u001b[0m\u001b[0;34m)\u001b[0m\u001b[0;34m,\u001b[0m \u001b[0mexactly_one\u001b[0m\u001b[0;34m\u001b[0m\u001b[0;34m\u001b[0m\u001b[0m\n\u001b[0m\u001b[1;32m    308\u001b[0m         )\n",
            "\u001b[0;32m/usr/local/lib/python3.6/dist-packages/geopy/geocoders/base.py\u001b[0m in \u001b[0;36m_call_geocoder\u001b[0;34m(self, url, timeout, raw, requester, deserializer, **kwargs)\u001b[0m\n\u001b[1;32m    361\u001b[0m                 \u001b[0;32mtry\u001b[0m\u001b[0;34m:\u001b[0m\u001b[0;34m\u001b[0m\u001b[0;34m\u001b[0m\u001b[0m\n\u001b[0;32m--> 362\u001b[0;31m                     \u001b[0;32mraise\u001b[0m \u001b[0mERROR_CODE_MAP\u001b[0m\u001b[0;34m[\u001b[0m\u001b[0mcode\u001b[0m\u001b[0;34m]\u001b[0m\u001b[0;34m(\u001b[0m\u001b[0mmessage\u001b[0m\u001b[0;34m)\u001b[0m\u001b[0;34m\u001b[0m\u001b[0;34m\u001b[0m\u001b[0m\n\u001b[0m\u001b[1;32m    363\u001b[0m                 \u001b[0;32mexcept\u001b[0m \u001b[0mKeyError\u001b[0m\u001b[0;34m:\u001b[0m\u001b[0;34m\u001b[0m\u001b[0;34m\u001b[0m\u001b[0m\n",
            "\u001b[0;31mGeocoderQuotaExceeded\u001b[0m: HTTP Error 429: Too Many Requests",
            "\nDuring handling of the above exception, another exception occurred:\n",
            "\u001b[0;31mUnboundLocalError\u001b[0m                         Traceback (most recent call last)",
            "\u001b[0;32m<ipython-input-47-9704a97dc62c>\u001b[0m in \u001b[0;36m<module>\u001b[0;34m()\u001b[0m\n\u001b[1;32m     19\u001b[0m         \u001b[0;32mreturn\u001b[0m \u001b[0;34m\"None\"\u001b[0m\u001b[0;34m,\u001b[0m\u001b[0;34m\"None\"\u001b[0m\u001b[0;34m\u001b[0m\u001b[0;34m\u001b[0m\u001b[0m\n\u001b[1;32m     20\u001b[0m \u001b[0;34m\u001b[0m\u001b[0m\n\u001b[0;32m---> 21\u001b[0;31m \u001b[0mcrime2019_fivek\u001b[0m\u001b[0;34m[\u001b[0m\u001b[0;34m\"Lat_Long\"\u001b[0m\u001b[0;34m]\u001b[0m \u001b[0;34m=\u001b[0m \u001b[0mcrime2019_fivek\u001b[0m\u001b[0;34m[\u001b[0m\u001b[0;34m\"Address\"\u001b[0m\u001b[0;34m]\u001b[0m\u001b[0;34m.\u001b[0m\u001b[0mapply\u001b[0m\u001b[0;34m(\u001b[0m\u001b[0mdo_geocode\u001b[0m\u001b[0;34m)\u001b[0m\u001b[0;34m\u001b[0m\u001b[0;34m\u001b[0m\u001b[0m\n\u001b[0m",
            "\u001b[0;32m/usr/local/lib/python3.6/dist-packages/pandas/core/series.py\u001b[0m in \u001b[0;36mapply\u001b[0;34m(self, func, convert_dtype, args, **kwds)\u001b[0m\n\u001b[1;32m   3589\u001b[0m             \u001b[0;32melse\u001b[0m\u001b[0;34m:\u001b[0m\u001b[0;34m\u001b[0m\u001b[0;34m\u001b[0m\u001b[0m\n\u001b[1;32m   3590\u001b[0m                 \u001b[0mvalues\u001b[0m \u001b[0;34m=\u001b[0m \u001b[0mself\u001b[0m\u001b[0;34m.\u001b[0m\u001b[0mastype\u001b[0m\u001b[0;34m(\u001b[0m\u001b[0mobject\u001b[0m\u001b[0;34m)\u001b[0m\u001b[0;34m.\u001b[0m\u001b[0mvalues\u001b[0m\u001b[0;34m\u001b[0m\u001b[0;34m\u001b[0m\u001b[0m\n\u001b[0;32m-> 3591\u001b[0;31m                 \u001b[0mmapped\u001b[0m \u001b[0;34m=\u001b[0m \u001b[0mlib\u001b[0m\u001b[0;34m.\u001b[0m\u001b[0mmap_infer\u001b[0m\u001b[0;34m(\u001b[0m\u001b[0mvalues\u001b[0m\u001b[0;34m,\u001b[0m \u001b[0mf\u001b[0m\u001b[0;34m,\u001b[0m \u001b[0mconvert\u001b[0m\u001b[0;34m=\u001b[0m\u001b[0mconvert_dtype\u001b[0m\u001b[0;34m)\u001b[0m\u001b[0;34m\u001b[0m\u001b[0;34m\u001b[0m\u001b[0m\n\u001b[0m\u001b[1;32m   3592\u001b[0m \u001b[0;34m\u001b[0m\u001b[0m\n\u001b[1;32m   3593\u001b[0m         \u001b[0;32mif\u001b[0m \u001b[0mlen\u001b[0m\u001b[0;34m(\u001b[0m\u001b[0mmapped\u001b[0m\u001b[0;34m)\u001b[0m \u001b[0;32mand\u001b[0m \u001b[0misinstance\u001b[0m\u001b[0;34m(\u001b[0m\u001b[0mmapped\u001b[0m\u001b[0;34m[\u001b[0m\u001b[0;36m0\u001b[0m\u001b[0;34m]\u001b[0m\u001b[0;34m,\u001b[0m \u001b[0mSeries\u001b[0m\u001b[0;34m)\u001b[0m\u001b[0;34m:\u001b[0m\u001b[0;34m\u001b[0m\u001b[0;34m\u001b[0m\u001b[0m\n",
            "\u001b[0;32mpandas/_libs/lib.pyx\u001b[0m in \u001b[0;36mpandas._libs.lib.map_infer\u001b[0;34m()\u001b[0m\n",
            "\u001b[0;32m<ipython-input-47-9704a97dc62c>\u001b[0m in \u001b[0;36mdo_geocode\u001b[0;34m(addr)\u001b[0m\n\u001b[1;32m     12\u001b[0m       \u001b[0;32mreturn\u001b[0m \u001b[0mdo_geocode\u001b[0m\u001b[0;34m(\u001b[0m\u001b[0maddr\u001b[0m\u001b[0;34m)\u001b[0m\u001b[0;34m\u001b[0m\u001b[0;34m\u001b[0m\u001b[0m\n\u001b[1;32m     13\u001b[0m     \u001b[0;32mfinally\u001b[0m\u001b[0;34m:\u001b[0m\u001b[0;34m\u001b[0m\u001b[0;34m\u001b[0m\u001b[0m\n\u001b[0;32m---> 14\u001b[0;31m       \u001b[0;32mif\u001b[0m \u001b[0mlocation\u001b[0m\u001b[0;34m:\u001b[0m\u001b[0;34m\u001b[0m\u001b[0;34m\u001b[0m\u001b[0m\n\u001b[0m\u001b[1;32m     15\u001b[0m         \u001b[0mLat\u001b[0m \u001b[0;34m=\u001b[0m \u001b[0mlocation\u001b[0m\u001b[0;34m.\u001b[0m\u001b[0mlatitude\u001b[0m\u001b[0;34m\u001b[0m\u001b[0;34m\u001b[0m\u001b[0m\n\u001b[1;32m     16\u001b[0m         \u001b[0mLong\u001b[0m \u001b[0;34m=\u001b[0m \u001b[0mlocation\u001b[0m\u001b[0;34m.\u001b[0m\u001b[0mlongitude\u001b[0m\u001b[0;34m\u001b[0m\u001b[0;34m\u001b[0m\u001b[0m\n",
            "\u001b[0;31mUnboundLocalError\u001b[0m: local variable 'location' referenced before assignment"
          ]
        }
      ]
    },
    {
      "cell_type": "code",
      "metadata": {
        "id": "GoQ5KBBhiUfJ",
        "colab_type": "code",
        "outputId": "750fc714-60a4-4d65-9755-f4911e95f8ec",
        "colab": {
          "base_uri": "https://localhost:8080/",
          "height": 697
        }
      },
      "source": [
        "crime2019[\"Lat_Long\"].head()"
      ],
      "execution_count": 0,
      "outputs": [
        {
          "output_type": "error",
          "ename": "KeyError",
          "evalue": "ignored",
          "traceback": [
            "\u001b[0;31m---------------------------------------------------------------------------\u001b[0m",
            "\u001b[0;31mKeyError\u001b[0m                                  Traceback (most recent call last)",
            "\u001b[0;32m/usr/local/lib/python3.6/dist-packages/pandas/core/indexes/base.py\u001b[0m in \u001b[0;36mget_loc\u001b[0;34m(self, key, method, tolerance)\u001b[0m\n\u001b[1;32m   2656\u001b[0m             \u001b[0;32mtry\u001b[0m\u001b[0;34m:\u001b[0m\u001b[0;34m\u001b[0m\u001b[0;34m\u001b[0m\u001b[0m\n\u001b[0;32m-> 2657\u001b[0;31m                 \u001b[0;32mreturn\u001b[0m \u001b[0mself\u001b[0m\u001b[0;34m.\u001b[0m\u001b[0m_engine\u001b[0m\u001b[0;34m.\u001b[0m\u001b[0mget_loc\u001b[0m\u001b[0;34m(\u001b[0m\u001b[0mkey\u001b[0m\u001b[0;34m)\u001b[0m\u001b[0;34m\u001b[0m\u001b[0;34m\u001b[0m\u001b[0m\n\u001b[0m\u001b[1;32m   2658\u001b[0m             \u001b[0;32mexcept\u001b[0m \u001b[0mKeyError\u001b[0m\u001b[0;34m:\u001b[0m\u001b[0;34m\u001b[0m\u001b[0;34m\u001b[0m\u001b[0m\n",
            "\u001b[0;32mpandas/_libs/index.pyx\u001b[0m in \u001b[0;36mpandas._libs.index.IndexEngine.get_loc\u001b[0;34m()\u001b[0m\n",
            "\u001b[0;32mpandas/_libs/index.pyx\u001b[0m in \u001b[0;36mpandas._libs.index.IndexEngine.get_loc\u001b[0;34m()\u001b[0m\n",
            "\u001b[0;32mpandas/_libs/hashtable_class_helper.pxi\u001b[0m in \u001b[0;36mpandas._libs.hashtable.PyObjectHashTable.get_item\u001b[0;34m()\u001b[0m\n",
            "\u001b[0;32mpandas/_libs/hashtable_class_helper.pxi\u001b[0m in \u001b[0;36mpandas._libs.hashtable.PyObjectHashTable.get_item\u001b[0;34m()\u001b[0m\n",
            "\u001b[0;31mKeyError\u001b[0m: 'Lat_Long'",
            "\nDuring handling of the above exception, another exception occurred:\n",
            "\u001b[0;31mKeyError\u001b[0m                                  Traceback (most recent call last)",
            "\u001b[0;32m<ipython-input-42-28a962aab990>\u001b[0m in \u001b[0;36m<module>\u001b[0;34m()\u001b[0m\n\u001b[0;32m----> 1\u001b[0;31m \u001b[0mcrime2019\u001b[0m\u001b[0;34m[\u001b[0m\u001b[0;34m\"Lat_Long\"\u001b[0m\u001b[0;34m]\u001b[0m\u001b[0;34m.\u001b[0m\u001b[0mhead\u001b[0m\u001b[0;34m(\u001b[0m\u001b[0;34m)\u001b[0m\u001b[0;34m\u001b[0m\u001b[0;34m\u001b[0m\u001b[0m\n\u001b[0m",
            "\u001b[0;32m/usr/local/lib/python3.6/dist-packages/pandas/core/frame.py\u001b[0m in \u001b[0;36m__getitem__\u001b[0;34m(self, key)\u001b[0m\n\u001b[1;32m   2925\u001b[0m             \u001b[0;32mif\u001b[0m \u001b[0mself\u001b[0m\u001b[0;34m.\u001b[0m\u001b[0mcolumns\u001b[0m\u001b[0;34m.\u001b[0m\u001b[0mnlevels\u001b[0m \u001b[0;34m>\u001b[0m \u001b[0;36m1\u001b[0m\u001b[0;34m:\u001b[0m\u001b[0;34m\u001b[0m\u001b[0;34m\u001b[0m\u001b[0m\n\u001b[1;32m   2926\u001b[0m                 \u001b[0;32mreturn\u001b[0m \u001b[0mself\u001b[0m\u001b[0;34m.\u001b[0m\u001b[0m_getitem_multilevel\u001b[0m\u001b[0;34m(\u001b[0m\u001b[0mkey\u001b[0m\u001b[0;34m)\u001b[0m\u001b[0;34m\u001b[0m\u001b[0;34m\u001b[0m\u001b[0m\n\u001b[0;32m-> 2927\u001b[0;31m             \u001b[0mindexer\u001b[0m \u001b[0;34m=\u001b[0m \u001b[0mself\u001b[0m\u001b[0;34m.\u001b[0m\u001b[0mcolumns\u001b[0m\u001b[0;34m.\u001b[0m\u001b[0mget_loc\u001b[0m\u001b[0;34m(\u001b[0m\u001b[0mkey\u001b[0m\u001b[0;34m)\u001b[0m\u001b[0;34m\u001b[0m\u001b[0;34m\u001b[0m\u001b[0m\n\u001b[0m\u001b[1;32m   2928\u001b[0m             \u001b[0;32mif\u001b[0m \u001b[0mis_integer\u001b[0m\u001b[0;34m(\u001b[0m\u001b[0mindexer\u001b[0m\u001b[0;34m)\u001b[0m\u001b[0;34m:\u001b[0m\u001b[0;34m\u001b[0m\u001b[0;34m\u001b[0m\u001b[0m\n\u001b[1;32m   2929\u001b[0m                 \u001b[0mindexer\u001b[0m \u001b[0;34m=\u001b[0m \u001b[0;34m[\u001b[0m\u001b[0mindexer\u001b[0m\u001b[0;34m]\u001b[0m\u001b[0;34m\u001b[0m\u001b[0;34m\u001b[0m\u001b[0m\n",
            "\u001b[0;32m/usr/local/lib/python3.6/dist-packages/pandas/core/indexes/base.py\u001b[0m in \u001b[0;36mget_loc\u001b[0;34m(self, key, method, tolerance)\u001b[0m\n\u001b[1;32m   2657\u001b[0m                 \u001b[0;32mreturn\u001b[0m \u001b[0mself\u001b[0m\u001b[0;34m.\u001b[0m\u001b[0m_engine\u001b[0m\u001b[0;34m.\u001b[0m\u001b[0mget_loc\u001b[0m\u001b[0;34m(\u001b[0m\u001b[0mkey\u001b[0m\u001b[0;34m)\u001b[0m\u001b[0;34m\u001b[0m\u001b[0;34m\u001b[0m\u001b[0m\n\u001b[1;32m   2658\u001b[0m             \u001b[0;32mexcept\u001b[0m \u001b[0mKeyError\u001b[0m\u001b[0;34m:\u001b[0m\u001b[0;34m\u001b[0m\u001b[0;34m\u001b[0m\u001b[0m\n\u001b[0;32m-> 2659\u001b[0;31m                 \u001b[0;32mreturn\u001b[0m \u001b[0mself\u001b[0m\u001b[0;34m.\u001b[0m\u001b[0m_engine\u001b[0m\u001b[0;34m.\u001b[0m\u001b[0mget_loc\u001b[0m\u001b[0;34m(\u001b[0m\u001b[0mself\u001b[0m\u001b[0;34m.\u001b[0m\u001b[0m_maybe_cast_indexer\u001b[0m\u001b[0;34m(\u001b[0m\u001b[0mkey\u001b[0m\u001b[0;34m)\u001b[0m\u001b[0;34m)\u001b[0m\u001b[0;34m\u001b[0m\u001b[0;34m\u001b[0m\u001b[0m\n\u001b[0m\u001b[1;32m   2660\u001b[0m         \u001b[0mindexer\u001b[0m \u001b[0;34m=\u001b[0m \u001b[0mself\u001b[0m\u001b[0;34m.\u001b[0m\u001b[0mget_indexer\u001b[0m\u001b[0;34m(\u001b[0m\u001b[0;34m[\u001b[0m\u001b[0mkey\u001b[0m\u001b[0;34m]\u001b[0m\u001b[0;34m,\u001b[0m \u001b[0mmethod\u001b[0m\u001b[0;34m=\u001b[0m\u001b[0mmethod\u001b[0m\u001b[0;34m,\u001b[0m \u001b[0mtolerance\u001b[0m\u001b[0;34m=\u001b[0m\u001b[0mtolerance\u001b[0m\u001b[0;34m)\u001b[0m\u001b[0;34m\u001b[0m\u001b[0;34m\u001b[0m\u001b[0m\n\u001b[1;32m   2661\u001b[0m         \u001b[0;32mif\u001b[0m \u001b[0mindexer\u001b[0m\u001b[0;34m.\u001b[0m\u001b[0mndim\u001b[0m \u001b[0;34m>\u001b[0m \u001b[0;36m1\u001b[0m \u001b[0;32mor\u001b[0m \u001b[0mindexer\u001b[0m\u001b[0;34m.\u001b[0m\u001b[0msize\u001b[0m \u001b[0;34m>\u001b[0m \u001b[0;36m1\u001b[0m\u001b[0;34m:\u001b[0m\u001b[0;34m\u001b[0m\u001b[0;34m\u001b[0m\u001b[0m\n",
            "\u001b[0;32mpandas/_libs/index.pyx\u001b[0m in \u001b[0;36mpandas._libs.index.IndexEngine.get_loc\u001b[0;34m()\u001b[0m\n",
            "\u001b[0;32mpandas/_libs/index.pyx\u001b[0m in \u001b[0;36mpandas._libs.index.IndexEngine.get_loc\u001b[0;34m()\u001b[0m\n",
            "\u001b[0;32mpandas/_libs/hashtable_class_helper.pxi\u001b[0m in \u001b[0;36mpandas._libs.hashtable.PyObjectHashTable.get_item\u001b[0;34m()\u001b[0m\n",
            "\u001b[0;32mpandas/_libs/hashtable_class_helper.pxi\u001b[0m in \u001b[0;36mpandas._libs.hashtable.PyObjectHashTable.get_item\u001b[0;34m()\u001b[0m\n",
            "\u001b[0;31mKeyError\u001b[0m: 'Lat_Long'"
          ]
        }
      ]
    },
    {
      "cell_type": "code",
      "metadata": {
        "id": "okjgfATEiXz_",
        "colab_type": "code",
        "colab": {}
      },
      "source": [
        "crime2019_jan_100.to_csv(\"pheonix_crime_jan_2019_top_100.csv\")"
      ],
      "execution_count": 0,
      "outputs": []
    },
    {
      "cell_type": "code",
      "metadata": {
        "id": "4jXBIITrzesS",
        "colab_type": "code",
        "colab": {}
      },
      "source": [
        "toph = pd.read_csv(\"pheonix_crime_jan_2019_top_100.csv\")"
      ],
      "execution_count": 0,
      "outputs": []
    },
    {
      "cell_type": "code",
      "metadata": {
        "id": "m6TBbcbrxPAR",
        "colab_type": "code",
        "outputId": "394cbe77-a506-446a-cba2-31bb0813c3d9",
        "colab": {
          "base_uri": "https://localhost:8080/",
          "height": 445
        }
      },
      "source": [
        "toph.tail()"
      ],
      "execution_count": 0,
      "outputs": [
        {
          "output_type": "execute_result",
          "data": {
            "text/html": [
              "<div>\n",
              "<style scoped>\n",
              "    .dataframe tbody tr th:only-of-type {\n",
              "        vertical-align: middle;\n",
              "    }\n",
              "\n",
              "    .dataframe tbody tr th {\n",
              "        vertical-align: top;\n",
              "    }\n",
              "\n",
              "    .dataframe thead th {\n",
              "        text-align: right;\n",
              "    }\n",
              "</style>\n",
              "<table border=\"1\" class=\"dataframe\">\n",
              "  <thead>\n",
              "    <tr style=\"text-align: right;\">\n",
              "      <th></th>\n",
              "      <th>Unnamed: 0</th>\n",
              "      <th>inc_number</th>\n",
              "      <th>occurred_on</th>\n",
              "      <th>occurred_to</th>\n",
              "      <th>ucr_crime_category</th>\n",
              "      <th>100_block_addr</th>\n",
              "      <th>zip</th>\n",
              "      <th>premise_type</th>\n",
              "      <th>Year</th>\n",
              "      <th>Month</th>\n",
              "      <th>zip_int</th>\n",
              "      <th>Address</th>\n",
              "      <th>Lat_Long</th>\n",
              "    </tr>\n",
              "  </thead>\n",
              "  <tbody>\n",
              "    <tr>\n",
              "      <th>95</th>\n",
              "      <td>204581</td>\n",
              "      <td>201900000003232</td>\n",
              "      <td>2019-01-01 10:15:00</td>\n",
              "      <td>2019-01-01 14:00:00</td>\n",
              "      <td>LARCENY-THEFT</td>\n",
              "      <td>5400 W INDIAN SCHOOL RD</td>\n",
              "      <td>85031</td>\n",
              "      <td>PARKING LOT</td>\n",
              "      <td>2019.0</td>\n",
              "      <td>1.0</td>\n",
              "      <td>85031.0</td>\n",
              "      <td>5400 W INDIAN SCHOOL RD,85031</td>\n",
              "      <td>(33.4949424, -112.1645923)</td>\n",
              "    </tr>\n",
              "    <tr>\n",
              "      <th>96</th>\n",
              "      <td>204582</td>\n",
              "      <td>201900000002282</td>\n",
              "      <td>2019-01-01 10:55:00</td>\n",
              "      <td>2019-01-01 11:00:00</td>\n",
              "      <td>AGGRAVATED ASSAULT</td>\n",
              "      <td>7300 S 37TH GLN</td>\n",
              "      <td>85041</td>\n",
              "      <td>STREET / ROADWAY / ALLEY / SIDEWALK</td>\n",
              "      <td>2019.0</td>\n",
              "      <td>1.0</td>\n",
              "      <td>85041.0</td>\n",
              "      <td>7300 S 37TH GLN,85041</td>\n",
              "      <td>('None', 'None')</td>\n",
              "    </tr>\n",
              "    <tr>\n",
              "      <th>97</th>\n",
              "      <td>204583</td>\n",
              "      <td>201900000002265</td>\n",
              "      <td>2019-01-01 10:59:00</td>\n",
              "      <td>2019-01-01 10:59:00</td>\n",
              "      <td>LARCENY-THEFT</td>\n",
              "      <td>4300 N 50TH DR</td>\n",
              "      <td>85031</td>\n",
              "      <td>DRIVEWAY</td>\n",
              "      <td>2019.0</td>\n",
              "      <td>1.0</td>\n",
              "      <td>85031.0</td>\n",
              "      <td>4300 N 50TH DR,85031</td>\n",
              "      <td>(33.498696, -112.168032)</td>\n",
              "    </tr>\n",
              "    <tr>\n",
              "      <th>98</th>\n",
              "      <td>204584</td>\n",
              "      <td>201900000053396</td>\n",
              "      <td>2019-01-01 11:00:00</td>\n",
              "      <td>2019-01-02 10:30:00</td>\n",
              "      <td>LARCENY-THEFT</td>\n",
              "      <td>4900 E LARKSPUR DR</td>\n",
              "      <td>n</td>\n",
              "      <td>GROUP HOME</td>\n",
              "      <td>2019.0</td>\n",
              "      <td>1.0</td>\n",
              "      <td>NaN</td>\n",
              "      <td>4900 E LARKSPUR DR,n</td>\n",
              "      <td>(33.601118, -111.975543)</td>\n",
              "    </tr>\n",
              "    <tr>\n",
              "      <th>99</th>\n",
              "      <td>204585</td>\n",
              "      <td>201900000002313</td>\n",
              "      <td>2019-01-01 11:00:00</td>\n",
              "      <td>2019-01-01 11:09:00</td>\n",
              "      <td>AGGRAVATED ASSAULT</td>\n",
              "      <td>2800 W SELDON LN</td>\n",
              "      <td>n</td>\n",
              "      <td>VEHICLE</td>\n",
              "      <td>2019.0</td>\n",
              "      <td>1.0</td>\n",
              "      <td>NaN</td>\n",
              "      <td>2800 W SELDON LN,n</td>\n",
              "      <td>(33.561174, -112.118886)</td>\n",
              "    </tr>\n",
              "  </tbody>\n",
              "</table>\n",
              "</div>"
            ],
            "text/plain": [
              "    Unnamed: 0       inc_number          occurred_on          occurred_to  \\\n",
              "95      204581  201900000003232  2019-01-01 10:15:00  2019-01-01 14:00:00   \n",
              "96      204582  201900000002282  2019-01-01 10:55:00  2019-01-01 11:00:00   \n",
              "97      204583  201900000002265  2019-01-01 10:59:00  2019-01-01 10:59:00   \n",
              "98      204584  201900000053396  2019-01-01 11:00:00  2019-01-02 10:30:00   \n",
              "99      204585  201900000002313  2019-01-01 11:00:00  2019-01-01 11:09:00   \n",
              "\n",
              "    ucr_crime_category           100_block_addr    zip  \\\n",
              "95       LARCENY-THEFT  5400 W INDIAN SCHOOL RD  85031   \n",
              "96  AGGRAVATED ASSAULT          7300 S 37TH GLN  85041   \n",
              "97       LARCENY-THEFT           4300 N 50TH DR  85031   \n",
              "98       LARCENY-THEFT       4900 E LARKSPUR DR      n   \n",
              "99  AGGRAVATED ASSAULT         2800 W SELDON LN      n   \n",
              "\n",
              "                           premise_type    Year  Month  zip_int  \\\n",
              "95                          PARKING LOT  2019.0    1.0  85031.0   \n",
              "96  STREET / ROADWAY / ALLEY / SIDEWALK  2019.0    1.0  85041.0   \n",
              "97                             DRIVEWAY  2019.0    1.0  85031.0   \n",
              "98                           GROUP HOME  2019.0    1.0      NaN   \n",
              "99                              VEHICLE  2019.0    1.0      NaN   \n",
              "\n",
              "                          Address                    Lat_Long  \n",
              "95  5400 W INDIAN SCHOOL RD,85031  (33.4949424, -112.1645923)  \n",
              "96          7300 S 37TH GLN,85041            ('None', 'None')  \n",
              "97           4300 N 50TH DR,85031    (33.498696, -112.168032)  \n",
              "98           4900 E LARKSPUR DR,n    (33.601118, -111.975543)  \n",
              "99             2800 W SELDON LN,n    (33.561174, -112.118886)  "
            ]
          },
          "metadata": {
            "tags": []
          },
          "execution_count": 51
        }
      ]
    },
    {
      "cell_type": "code",
      "metadata": {
        "id": "DvWU8-C2xFAH",
        "colab_type": "code",
        "colab": {}
      },
      "source": [
        "toph_clean = toph[toph[\"Lat_Long\"] != '(\"None\",\"None\")']"
      ],
      "execution_count": 0,
      "outputs": []
    },
    {
      "cell_type": "code",
      "metadata": {
        "id": "LMNM1EPVxgoN",
        "colab_type": "code",
        "colab": {}
      },
      "source": [
        "toph_clean.to_csv(\"pheonix2019_top100.csv\")"
      ],
      "execution_count": 0,
      "outputs": []
    }
  ]
}